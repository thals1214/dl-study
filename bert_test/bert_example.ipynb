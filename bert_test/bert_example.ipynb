{
  "nbformat": 4,
  "nbformat_minor": 0,
  "metadata": {
    "colab": {
      "name": "bert_example.ipynb",
      "provenance": [],
      "authorship_tag": "ABX9TyMBW0oqSlz2XyHe+Sy557RE"
    },
    "kernelspec": {
      "name": "python3",
      "display_name": "Python 3"
    },
    "language_info": {
      "name": "python"
    }
  },
  "cells": [
    {
      "cell_type": "code",
      "execution_count": 1,
      "metadata": {
        "colab": {
          "base_uri": "https://localhost:8080/"
        },
        "id": "z9wio834cwd4",
        "outputId": "303d188d-adac-44cd-af29-d72a54fc0a8c"
      },
      "outputs": [
        {
          "output_type": "stream",
          "name": "stdout",
          "text": [
            "Collecting Transformers\n",
            "  Downloading transformers-4.16.2-py3-none-any.whl (3.5 MB)\n",
            "\u001b[K     |████████████████████████████████| 3.5 MB 5.4 MB/s \n",
            "\u001b[?25hRequirement already satisfied: importlib-metadata in /usr/local/lib/python3.7/dist-packages (from Transformers) (4.10.1)\n",
            "Collecting pyyaml>=5.1\n",
            "  Downloading PyYAML-6.0-cp37-cp37m-manylinux_2_5_x86_64.manylinux1_x86_64.manylinux_2_12_x86_64.manylinux2010_x86_64.whl (596 kB)\n",
            "\u001b[K     |████████████████████████████████| 596 kB 47.9 MB/s \n",
            "\u001b[?25hRequirement already satisfied: requests in /usr/local/lib/python3.7/dist-packages (from Transformers) (2.23.0)\n",
            "Collecting huggingface-hub<1.0,>=0.1.0\n",
            "  Downloading huggingface_hub-0.4.0-py3-none-any.whl (67 kB)\n",
            "\u001b[K     |████████████████████████████████| 67 kB 4.0 MB/s \n",
            "\u001b[?25hRequirement already satisfied: numpy>=1.17 in /usr/local/lib/python3.7/dist-packages (from Transformers) (1.19.5)\n",
            "Requirement already satisfied: packaging>=20.0 in /usr/local/lib/python3.7/dist-packages (from Transformers) (21.3)\n",
            "Requirement already satisfied: filelock in /usr/local/lib/python3.7/dist-packages (from Transformers) (3.4.2)\n",
            "Collecting sacremoses\n",
            "  Downloading sacremoses-0.0.47-py2.py3-none-any.whl (895 kB)\n",
            "\u001b[K     |████████████████████████████████| 895 kB 40.7 MB/s \n",
            "\u001b[?25hCollecting tokenizers!=0.11.3,>=0.10.1\n",
            "  Downloading tokenizers-0.11.4-cp37-cp37m-manylinux_2_12_x86_64.manylinux2010_x86_64.whl (6.8 MB)\n",
            "\u001b[K     |████████████████████████████████| 6.8 MB 41.4 MB/s \n",
            "\u001b[?25hRequirement already satisfied: regex!=2019.12.17 in /usr/local/lib/python3.7/dist-packages (from Transformers) (2019.12.20)\n",
            "Requirement already satisfied: tqdm>=4.27 in /usr/local/lib/python3.7/dist-packages (from Transformers) (4.62.3)\n",
            "Requirement already satisfied: typing-extensions>=3.7.4.3 in /usr/local/lib/python3.7/dist-packages (from huggingface-hub<1.0,>=0.1.0->Transformers) (3.10.0.2)\n",
            "Requirement already satisfied: pyparsing!=3.0.5,>=2.0.2 in /usr/local/lib/python3.7/dist-packages (from packaging>=20.0->Transformers) (3.0.7)\n",
            "Requirement already satisfied: zipp>=0.5 in /usr/local/lib/python3.7/dist-packages (from importlib-metadata->Transformers) (3.7.0)\n",
            "Requirement already satisfied: urllib3!=1.25.0,!=1.25.1,<1.26,>=1.21.1 in /usr/local/lib/python3.7/dist-packages (from requests->Transformers) (1.24.3)\n",
            "Requirement already satisfied: certifi>=2017.4.17 in /usr/local/lib/python3.7/dist-packages (from requests->Transformers) (2021.10.8)\n",
            "Requirement already satisfied: chardet<4,>=3.0.2 in /usr/local/lib/python3.7/dist-packages (from requests->Transformers) (3.0.4)\n",
            "Requirement already satisfied: idna<3,>=2.5 in /usr/local/lib/python3.7/dist-packages (from requests->Transformers) (2.10)\n",
            "Requirement already satisfied: six in /usr/local/lib/python3.7/dist-packages (from sacremoses->Transformers) (1.15.0)\n",
            "Requirement already satisfied: joblib in /usr/local/lib/python3.7/dist-packages (from sacremoses->Transformers) (1.1.0)\n",
            "Requirement already satisfied: click in /usr/local/lib/python3.7/dist-packages (from sacremoses->Transformers) (7.1.2)\n",
            "Installing collected packages: pyyaml, tokenizers, sacremoses, huggingface-hub, Transformers\n",
            "  Attempting uninstall: pyyaml\n",
            "    Found existing installation: PyYAML 3.13\n",
            "    Uninstalling PyYAML-3.13:\n",
            "      Successfully uninstalled PyYAML-3.13\n",
            "Successfully installed Transformers-4.16.2 huggingface-hub-0.4.0 pyyaml-6.0 sacremoses-0.0.47 tokenizers-0.11.4\n"
          ]
        }
      ],
      "source": [
        "!pip install Transformers"
      ]
    },
    {
      "cell_type": "code",
      "source": [
        "from transformers import BertTokenizer, BertForMaskedLM\n",
        "import torch"
      ],
      "metadata": {
        "id": "CYPfFshvc_RI"
      },
      "execution_count": 7,
      "outputs": []
    },
    {
      "cell_type": "code",
      "source": [
        "tokenizer = BertTokenizer.from_pretrained('bert-base-uncased')\n",
        "model = BertForMaskedLM.from_pretrained('bert-base-uncased') # what is bert base uncased \n",
        "text = (\"After Abraham Lincoln won the November 1860 presidential election on an \"\n",
        "        \"anti-slavery platform, an initial seven slave stated declared their\"\n",
        "        \"secession from the country to form the Confederacy. War broke out in\"\n",
        "        \"April 1861 when secessionist forces attacked Fort Sumter in South \"\n",
        "        \"Carolina, just over a month after Lincoln's inauguration.\")"
      ],
      "metadata": {
        "colab": {
          "base_uri": "https://localhost:8080/"
        },
        "id": "P2dY8VawdPd0",
        "outputId": "42a7be59-ecd7-41bc-bd64-94d1ea58c6e6"
      },
      "execution_count": 14,
      "outputs": [
        {
          "output_type": "stream",
          "name": "stderr",
          "text": [
            "Some weights of the model checkpoint at bert-base-uncased were not used when initializing BertForMaskedLM: ['cls.seq_relationship.bias', 'cls.seq_relationship.weight']\n",
            "- This IS expected if you are initializing BertForMaskedLM from the checkpoint of a model trained on another task or with another architecture (e.g. initializing a BertForSequenceClassification model from a BertForPreTraining model).\n",
            "- This IS NOT expected if you are initializing BertForMaskedLM from the checkpoint of a model that you expect to be exactly identical (initializing a BertForSequenceClassification model from a BertForSequenceClassification model).\n"
          ]
        }
      ]
    },
    {
      "cell_type": "code",
      "source": [
        "inputs = tokenizer(text, return_tensors = 'pt')\n",
        "inputs.keys() #what tensors we return from that "
      ],
      "metadata": {
        "colab": {
          "base_uri": "https://localhost:8080/"
        },
        "id": "dhCbrpM2egyh",
        "outputId": "34e4ddd7-a781-45ce-d48f-4316272ba625"
      },
      "execution_count": 15,
      "outputs": [
        {
          "output_type": "execute_result",
          "data": {
            "text/plain": [
              "dict_keys(['input_ids', 'token_type_ids', 'attention_mask'])"
            ]
          },
          "metadata": {},
          "execution_count": 15
        }
      ]
    },
    {
      "cell_type": "code",
      "source": [
        "#focusing on input_ids on this video. \n",
        "inputs.input_ids"
      ],
      "metadata": {
        "colab": {
          "base_uri": "https://localhost:8080/"
        },
        "id": "pxO0xfbge7j2",
        "outputId": "c2d4c5fc-5f2f-492a-fc60-649c056eb1e0"
      },
      "execution_count": 16,
      "outputs": [
        {
          "output_type": "execute_result",
          "data": {
            "text/plain": [
              "tensor([[  101,  2044,  8181,  5367,  2180,  1996,  2281,  7313,  4883,  2602,\n",
              "          2006,  2019,  3424,  1011,  8864,  4132,  1010,  2019,  3988,  2698,\n",
              "          6658,  3090,  4161, 17156, 26005, 28231,  2013,  1996,  2406,  2000,\n",
              "          2433,  1996, 18179,  1012,  2162,  3631,  2041, 27118, 18098,  4014,\n",
              "          6863,  2043, 22965,  2923,  2749,  4457,  3481,  7680,  3334,  1999,\n",
              "          2148,  3792,  1010,  2074,  2058,  1037,  3204,  2044,  5367,  1005,\n",
              "          1055, 17331,  1012,   102]])"
            ]
          },
          "metadata": {},
          "execution_count": 16
        }
      ]
    },
    {
      "cell_type": "code",
      "source": [
        "#create out target labels \n",
        "inputs['labels'] = inputs.input_ids.detach().clone()  #copy of inputs ids of tensor "
      ],
      "metadata": {
        "id": "FpSA98zrfX3l"
      },
      "execution_count": 17,
      "outputs": []
    },
    {
      "cell_type": "code",
      "source": [
        "inputs"
      ],
      "metadata": {
        "colab": {
          "base_uri": "https://localhost:8080/"
        },
        "id": "DeurQWcVgET3",
        "outputId": "5cf04c09-acee-473c-9013-da9ffbb32843"
      },
      "execution_count": 18,
      "outputs": [
        {
          "output_type": "execute_result",
          "data": {
            "text/plain": [
              "{'input_ids': tensor([[  101,  2044,  8181,  5367,  2180,  1996,  2281,  7313,  4883,  2602,\n",
              "          2006,  2019,  3424,  1011,  8864,  4132,  1010,  2019,  3988,  2698,\n",
              "          6658,  3090,  4161, 17156, 26005, 28231,  2013,  1996,  2406,  2000,\n",
              "          2433,  1996, 18179,  1012,  2162,  3631,  2041, 27118, 18098,  4014,\n",
              "          6863,  2043, 22965,  2923,  2749,  4457,  3481,  7680,  3334,  1999,\n",
              "          2148,  3792,  1010,  2074,  2058,  1037,  3204,  2044,  5367,  1005,\n",
              "          1055, 17331,  1012,   102]]), 'token_type_ids': tensor([[0, 0, 0, 0, 0, 0, 0, 0, 0, 0, 0, 0, 0, 0, 0, 0, 0, 0, 0, 0, 0, 0, 0, 0,\n",
              "         0, 0, 0, 0, 0, 0, 0, 0, 0, 0, 0, 0, 0, 0, 0, 0, 0, 0, 0, 0, 0, 0, 0, 0,\n",
              "         0, 0, 0, 0, 0, 0, 0, 0, 0, 0, 0, 0, 0, 0, 0, 0]]), 'attention_mask': tensor([[1, 1, 1, 1, 1, 1, 1, 1, 1, 1, 1, 1, 1, 1, 1, 1, 1, 1, 1, 1, 1, 1, 1, 1,\n",
              "         1, 1, 1, 1, 1, 1, 1, 1, 1, 1, 1, 1, 1, 1, 1, 1, 1, 1, 1, 1, 1, 1, 1, 1,\n",
              "         1, 1, 1, 1, 1, 1, 1, 1, 1, 1, 1, 1, 1, 1, 1, 1]]), 'labels': tensor([[  101,  2044,  8181,  5367,  2180,  1996,  2281,  7313,  4883,  2602,\n",
              "          2006,  2019,  3424,  1011,  8864,  4132,  1010,  2019,  3988,  2698,\n",
              "          6658,  3090,  4161, 17156, 26005, 28231,  2013,  1996,  2406,  2000,\n",
              "          2433,  1996, 18179,  1012,  2162,  3631,  2041, 27118, 18098,  4014,\n",
              "          6863,  2043, 22965,  2923,  2749,  4457,  3481,  7680,  3334,  1999,\n",
              "          2148,  3792,  1010,  2074,  2058,  1037,  3204,  2044,  5367,  1005,\n",
              "          1055, 17331,  1012,   102]])}"
            ]
          },
          "metadata": {},
          "execution_count": 18
        }
      ]
    },
    {
      "cell_type": "code",
      "source": [
        "rand = torch.rand(inputs.input_ids.shape)\n",
        "rand.shape"
      ],
      "metadata": {
        "colab": {
          "base_uri": "https://localhost:8080/"
        },
        "id": "KZEMNpqlgPxd",
        "outputId": "bc5c500c-fb1b-4ab1-e375-7777e5f2f077"
      },
      "execution_count": 19,
      "outputs": [
        {
          "output_type": "execute_result",
          "data": {
            "text/plain": [
              "torch.Size([1, 64])"
            ]
          },
          "metadata": {},
          "execution_count": 19
        }
      ]
    },
    {
      "cell_type": "code",
      "source": [
        "rand"
      ],
      "metadata": {
        "colab": {
          "base_uri": "https://localhost:8080/"
        },
        "id": "3i-hfEwEgbxJ",
        "outputId": "131108f4-161e-4c8f-9bf4-b212de7d4c7f"
      },
      "execution_count": 20,
      "outputs": [
        {
          "output_type": "execute_result",
          "data": {
            "text/plain": [
              "tensor([[0.5453, 0.2935, 0.0346, 0.1767, 0.5329, 0.7101, 0.6116, 0.8584, 0.1083,\n",
              "         0.9637, 0.1599, 0.0472, 0.3483, 0.6065, 0.7045, 0.6386, 0.7879, 0.9072,\n",
              "         0.2833, 0.9170, 0.8301, 0.6008, 0.5725, 0.1849, 0.0766, 0.6977, 0.7745,\n",
              "         0.1887, 0.4758, 0.6015, 0.6149, 0.1350, 0.0524, 0.3502, 0.3041, 0.3426,\n",
              "         0.4512, 0.5855, 0.9040, 0.5208, 0.8751, 0.5783, 0.6643, 0.9153, 0.8671,\n",
              "         0.9621, 0.5948, 0.0055, 0.4799, 0.8229, 0.0144, 0.2606, 0.2473, 0.0509,\n",
              "         0.4635, 0.6679, 0.0914, 0.0261, 0.8336, 0.0867, 0.1584, 0.4366, 0.2853,\n",
              "         0.7613]])"
            ]
          },
          "metadata": {},
          "execution_count": 20
        }
      ]
    },
    {
      "cell_type": "code",
      "source": [
        "mask_arr = (rand < 0.15) * (inputs.input_ids != 101) * (inputs.input_ids != 102)\n",
        "mask_arr"
      ],
      "metadata": {
        "colab": {
          "base_uri": "https://localhost:8080/"
        },
        "id": "mrPWkw6bgeUJ",
        "outputId": "c528b687-1c53-4ae4-f3b8-fc9f83eeb0ee"
      },
      "execution_count": 23,
      "outputs": [
        {
          "output_type": "execute_result",
          "data": {
            "text/plain": [
              "tensor([[False, False,  True, False, False, False, False, False,  True, False,\n",
              "         False,  True, False, False, False, False, False, False, False, False,\n",
              "         False, False, False, False,  True, False, False, False, False, False,\n",
              "         False,  True,  True, False, False, False, False, False, False, False,\n",
              "         False, False, False, False, False, False, False,  True, False, False,\n",
              "          True, False, False,  True, False, False,  True,  True, False,  True,\n",
              "         False, False, False, False]])"
            ]
          },
          "metadata": {},
          "execution_count": 23
        }
      ]
    },
    {
      "cell_type": "code",
      "source": [
        "#don't want to mask special tokens (first & last)\n",
        "(inputs.input_ids != 101) * (inputs.input_ids != 102)"
      ],
      "metadata": {
        "colab": {
          "base_uri": "https://localhost:8080/"
        },
        "id": "Ddla05O2gsuu",
        "outputId": "ffa49fea-08a2-4a20-adb4-1da574c0b50e"
      },
      "execution_count": 22,
      "outputs": [
        {
          "output_type": "execute_result",
          "data": {
            "text/plain": [
              "tensor([[False,  True,  True,  True,  True,  True,  True,  True,  True,  True,\n",
              "          True,  True,  True,  True,  True,  True,  True,  True,  True,  True,\n",
              "          True,  True,  True,  True,  True,  True,  True,  True,  True,  True,\n",
              "          True,  True,  True,  True,  True,  True,  True,  True,  True,  True,\n",
              "          True,  True,  True,  True,  True,  True,  True,  True,  True,  True,\n",
              "          True,  True,  True,  True,  True,  True,  True,  True,  True,  True,\n",
              "          True,  True,  True, False]])"
            ]
          },
          "metadata": {},
          "execution_count": 22
        }
      ]
    },
    {
      "cell_type": "code",
      "source": [
        "selection = torch.flatten(mask_arr[0].nonzero()).tolist()\n",
        "selection"
      ],
      "metadata": {
        "colab": {
          "base_uri": "https://localhost:8080/"
        },
        "id": "z3nymcR6hOdf",
        "outputId": "a0bbecbb-90dd-4e4f-9a9d-15429498610b"
      },
      "execution_count": 29,
      "outputs": [
        {
          "output_type": "execute_result",
          "data": {
            "text/plain": [
              "[2, 8, 11, 24, 31, 32, 47, 50, 53, 56, 57, 59]"
            ]
          },
          "metadata": {},
          "execution_count": 29
        }
      ]
    },
    {
      "cell_type": "code",
      "source": [
        "inputs.input_ids[0, selection] = 103\n",
        "inputs.input_ids"
      ],
      "metadata": {
        "colab": {
          "base_uri": "https://localhost:8080/"
        },
        "id": "LGks2MVXhmCm",
        "outputId": "faee4d7b-5bcb-4188-f236-ff3b9d1b63c6"
      },
      "execution_count": 30,
      "outputs": [
        {
          "output_type": "execute_result",
          "data": {
            "text/plain": [
              "tensor([[  101,  2044,   103,  5367,  2180,  1996,  2281,  7313,   103,  2602,\n",
              "          2006,   103,  3424,  1011,  8864,  4132,  1010,  2019,  3988,  2698,\n",
              "          6658,  3090,  4161, 17156,   103, 28231,  2013,  1996,  2406,  2000,\n",
              "          2433,   103,   103,  1012,  2162,  3631,  2041, 27118, 18098,  4014,\n",
              "          6863,  2043, 22965,  2923,  2749,  4457,  3481,   103,  3334,  1999,\n",
              "           103,  3792,  1010,   103,  2058,  1037,   103,   103,  5367,   103,\n",
              "          1055, 17331,  1012,   102]])"
            ]
          },
          "metadata": {},
          "execution_count": 30
        }
      ]
    },
    {
      "cell_type": "code",
      "source": [
        "outputs = model(**inputs)\n",
        "outputs.keys()"
      ],
      "metadata": {
        "colab": {
          "base_uri": "https://localhost:8080/"
        },
        "id": "UpakqbT9h8FA",
        "outputId": "e9463c67-2e2c-4484-c6d3-b3c53ecc944b"
      },
      "execution_count": 31,
      "outputs": [
        {
          "output_type": "execute_result",
          "data": {
            "text/plain": [
              "odict_keys(['loss', 'logits'])"
            ]
          },
          "metadata": {},
          "execution_count": 31
        }
      ]
    },
    {
      "cell_type": "code",
      "source": [
        "outputs.loss"
      ],
      "metadata": {
        "colab": {
          "base_uri": "https://localhost:8080/"
        },
        "id": "hCjFKAXOiDgV",
        "outputId": "a01a63d9-d46b-446e-8e1c-4e5efebb3a75"
      },
      "execution_count": 32,
      "outputs": [
        {
          "output_type": "execute_result",
          "data": {
            "text/plain": [
              "tensor(1.2140, grad_fn=<NllLossBackward0>)"
            ]
          },
          "metadata": {},
          "execution_count": 32
        }
      ]
    }
  ]
}